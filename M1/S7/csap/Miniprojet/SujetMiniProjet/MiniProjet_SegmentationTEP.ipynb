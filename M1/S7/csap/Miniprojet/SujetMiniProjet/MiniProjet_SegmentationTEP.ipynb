{
 "cells": [
  {
   "cell_type": "markdown",
   "id": "2d936641",
   "metadata": {},
   "source": [
    "# Mini-Projet : Segmentation d'images TEP par classification spectrale\n",
    "\n",
    "L'objectif de ce TP est de segmenter des images de Tomographie par Emission de Positons (TEP)  via des méthodes de classification non supervisée et, en particulier, une méthode de classification spectrale. \n",
    "\n",
    "## Principe de l'imagerie TEP \n",
    "\n",
    "La Tomographie par Emission de Positons (ou TEP) est une technique d'imagerie médicale fonctionnelle quantitative permettant de visualiser les activités du métabolisme. Les données TEP forment une sèquence *3D + t* qui traduit l'évolution de la radioactivité dans le temps du volume correspondant au champ de vue de l'appareil de mesure.\n",
    "\n",
    "\n",
    "<img src=\"./PrincipePET.png\" width=\"600\" height=\"300\">\n",
    "\n",
    "\n",
    "\n",
    "Nous nous intéressons, dans ce TP, à la segmentation d'une coupe transverse et sagittale du cerveau, réprésentée respectivement à gauche et à droite sur la figure ci-dessous. Le nombre de classes à retrouver correspond aux différentes couleurs représentées sur la figure. Ici, l'information géométrique (position de chaque pixel dans l'image) n'est pas prise en compte.\n",
    "\n",
    "<img src=\"./zubal_fig3.png\" width=\"600\" height=\"300\">\n",
    "\n",
    "\n",
    "Ce mini-projet se décompose en 5 parties:\n",
    "- **Partie I :** implémentation de la classification spectrale avec exemple jouet \n",
    "- **Partie II :** application de la classification spectrale sur les protils temporels TACs \n",
    "- **Partie III :** classification par Kmeans puis par réduction de dimension ACP+Kmeans\n",
    "- **Partie IV :** évaluation des résultats\n",
    "- **Partie V :** votre analyse\n",
    "\n"
   ]
  },
  {
   "cell_type": "code",
   "execution_count": null,
   "id": "cf60567b",
   "metadata": {},
   "outputs": [],
   "source": [
    "import scipy.io\n",
    "import numpy as np\n",
    "import matplotlib.pyplot as plt\n",
    "import pandas as pd\n",
    "import seaborn as sns\n",
    "from scipy import stats\n",
    "from sklearn.cluster import KMeans"
   ]
  },
  {
   "cell_type": "markdown",
   "id": "bdb82321",
   "metadata": {},
   "source": [
    "## Partie I : Classification spectrale\n",
    "\n",
    "Parmi les méthodes de partitionnement non supervisé, les méthodes à noyaux reposent sur le même principe : elles utilisent des relations d'adjacence (d'affinité) entre tous les couples de points sans a priori sur les formes des classes. Nous nous concentrons sur l'algorithme de classification spectrale décrit ci-dessous, très simple à implémenter. La mesure d'affinité utilisée est l'affinité gaussienne qui dépend d'un paramètre noté $\\sigma$.\n",
    "\n",
    "\n",
    "On dispose d'un ensemble  de données $S=\\{x_i\\}_{i=1,..,n}\\in \\mathbb{R}^p$ composé de $n$ points de dimension $p$ et d'un nombre de classes, noté $k$, à obtenir. La méthode de classification spectrale  consiste à extraire les vecteurs propres associés aux plus grandes valeurs propres d'une matrice d'affinité normalisée. Ces vecteurs propres constituent ensuite un espace de dimension réduite dans lequel les données transformées seront linéairement séparables.  \n",
    "\n",
    "<img src=\"AlgoSC.png\" width=\"600\" height=\"300\">\n",
    "<img src=\"SCexple.png\" width=\"600\" height=\"300\">\n",
    "\n",
    "\n",
    "### Travail demandé\n",
    "\n",
    "- Ecrire la fonction **classification_spectrale** implantant l'algorithme 1. Cette fonction en entrée les données Input de l'algorithme.\n",
    "- Tester la fonction sur le jeu de données *ToyExample.mat* et tester différentes valeurs de paramètres $\\sigma$. Les résultats sont-ils similaires ?\n",
    "\n",
    "\n",
    "### Fonctions python utiles\n",
    "- exp (numpy)\n",
    "- norm (linalg)\n",
    "- inv (linalg)\n",
    "- eig (linalg)\n",
    "- KMeans (sklearn)"
   ]
  },
  {
   "cell_type": "code",
   "execution_count": 92,
   "id": "5e0ada54",
   "metadata": {},
   "outputs": [],
   "source": [
    "from sympy import centroid\n",
    "\n",
    "\n",
    "def classification_spectrale(Data,k,sigma):\n",
    "    Data=np.asarray(Data)\n",
    "    k=int(k)\n",
    "\n",
    "    size = Data.shape[0]\n",
    "    dim = (size, size)\n",
    "\n",
    "    # construction de la matrice affinité\n",
    "    Affinite = np.zeros(dim)\n",
    "    for i in range(size):\n",
    "        for j in range(size):\n",
    "            if i == j: #not using the conditional operator because th syntax is fucking unreadable garbage\n",
    "                Affinite[i, j] = 0\n",
    "            else:\n",
    "                Affinite[i, j] =  np.exp(- np.square(np.linalg.norm(Data[i] - Data[j])) / (2 * sigma * sigma))\n",
    "\n",
    "    #print(Affinite)\n",
    "\n",
    "    # Normalisation de la matrice affinité\n",
    "    D = np.zeros(dim)\n",
    "    for i in range(size):\n",
    "        D[i, i] = np.sum(Affinite[i])\n",
    "\n",
    "\n",
    "    L = np.matmul(np.linalg.inv(D), Affinite)\n",
    "\n",
    "    # Calcul des vecteurs propres de L\n",
    "    (valp, vecp) = np.linalg.eig(L)\n",
    "\n",
    "\n",
    "    #Extraction des k + grands vecteurs propres\n",
    "    X = np.transpose(vecp[np.argsort(valp)][::-1][:k])\n",
    "\n",
    "    # Normalisation des lignes de X\n",
    "    Y = np.zeros((size, k))\n",
    "    for i in range(size):\n",
    "        for j in range(k):\n",
    "            Y[i, j] = X[i, j] / np.sqrt(np.sum(X[i]**2))\n",
    "    \n",
    "    print(Y)\n",
    "\n",
    "    #Kmeans sur l'espace spectral\n",
    "    PartitionSC=np.zeros((k, size))\n",
    "    \n",
    "    return PartitionSC"
   ]
  },
  {
   "cell_type": "markdown",
   "id": "ffe50669",
   "metadata": {},
   "source": [
    "### Application : toy example"
   ]
  },
  {
   "cell_type": "code",
   "execution_count": 93,
   "id": "2ac382ef",
   "metadata": {},
   "outputs": [
    {
     "name": "stdout",
     "output_type": "stream",
     "text": [
      "[[ 0.70710678  0.70710678]\n",
      " [ 0.53106973  0.84732812]\n",
      " [ 0.95592653 -0.29360596]\n",
      " [-0.47483574  0.88007444]]\n"
     ]
    },
    {
     "ename": "TypeError",
     "evalue": "'NoneType' object is not subscriptable",
     "output_type": "error",
     "traceback": [
      "\u001b[0;31m---------------------------------------------------------------------------\u001b[0m",
      "\u001b[0;31mTypeError\u001b[0m                                 Traceback (most recent call last)",
      "\u001b[1;32m/home/tnt3192a/documents/work/M1/S7/csap/Miniprojet/SujetMiniProjet/MiniProjet_SegmentationTEP.ipynb Cell 6'\u001b[0m in \u001b[0;36m<cell line: 11>\u001b[0;34m()\u001b[0m\n\u001b[1;32m      <a href='vscode-notebook-cell:/home/tnt3192a/documents/work/M1/S7/csap/Miniprojet/SujetMiniProjet/MiniProjet_SegmentationTEP.ipynb#ch0000005?line=6'>7</a>\u001b[0m plt\u001b[39m.\u001b[39mplot(ExpleJouet[:,\u001b[39m0\u001b[39m],ExpleJouet[:,\u001b[39m1\u001b[39m],\u001b[39m'\u001b[39m\u001b[39m.\u001b[39m\u001b[39m'\u001b[39m)\n\u001b[1;32m     <a href='vscode-notebook-cell:/home/tnt3192a/documents/work/M1/S7/csap/Miniprojet/SujetMiniProjet/MiniProjet_SegmentationTEP.ipynb#ch0000005?line=9'>10</a>\u001b[0m \u001b[39m# Classification du jeu de données\u001b[39;00m\n\u001b[0;32m---> <a href='vscode-notebook-cell:/home/tnt3192a/documents/work/M1/S7/csap/Miniprojet/SujetMiniProjet/MiniProjet_SegmentationTEP.ipynb#ch0000005?line=10'>11</a>\u001b[0m classification_spectrale(ExpleJouet[:\u001b[39m4\u001b[39;49m], \u001b[39m2\u001b[39;49m, \u001b[39m1\u001b[39;49m)\n",
      "\u001b[1;32m/home/tnt3192a/documents/work/M1/S7/csap/Miniprojet/SujetMiniProjet/MiniProjet_SegmentationTEP.ipynb Cell 4'\u001b[0m in \u001b[0;36mclassification_spectrale\u001b[0;34m(Data, k, sigma)\u001b[0m\n\u001b[1;32m     <a href='vscode-notebook-cell:/home/tnt3192a/documents/work/M1/S7/csap/Miniprojet/SujetMiniProjet/MiniProjet_SegmentationTEP.ipynb#ch0000003?line=44'>45</a>\u001b[0m \u001b[39m#Kmeans sur l'espace spectral\u001b[39;00m\n\u001b[1;32m     <a href='vscode-notebook-cell:/home/tnt3192a/documents/work/M1/S7/csap/Miniprojet/SujetMiniProjet/MiniProjet_SegmentationTEP.ipynb#ch0000003?line=45'>46</a>\u001b[0m PartitionSC\u001b[39m=\u001b[39mnp\u001b[39m.\u001b[39mzeros((k, size))\n\u001b[0;32m---> <a href='vscode-notebook-cell:/home/tnt3192a/documents/work/M1/S7/csap/Miniprojet/SujetMiniProjet/MiniProjet_SegmentationTEP.ipynb#ch0000003?line=46'>47</a>\u001b[0m centroids \u001b[39m=\u001b[39m np\u001b[39m.\u001b[39;49mrandom\u001b[39m.\u001b[39;49mshuffle(Y[:])[:k]\n\u001b[1;32m     <a href='vscode-notebook-cell:/home/tnt3192a/documents/work/M1/S7/csap/Miniprojet/SujetMiniProjet/MiniProjet_SegmentationTEP.ipynb#ch0000003?line=48'>49</a>\u001b[0m \u001b[39mprint\u001b[39m(centroids)\n\u001b[1;32m     <a href='vscode-notebook-cell:/home/tnt3192a/documents/work/M1/S7/csap/Miniprojet/SujetMiniProjet/MiniProjet_SegmentationTEP.ipynb#ch0000003?line=50'>51</a>\u001b[0m \u001b[39mreturn\u001b[39;00m PartitionSC\n",
      "\u001b[0;31mTypeError\u001b[0m: 'NoneType' object is not subscriptable"
     ]
    },
    {
     "data": {
      "image/png": "[encoded data removed]",
      "text/plain": [
       "<Figure size 432x288 with 1 Axes>"
      ]
     },
     "metadata": {
      "needs_background": "light"
     },
     "output_type": "display_data"
    }
   ],
   "source": [
    "matJouet = scipy.io.loadmat('ToyExample.mat')\n",
    "\n",
    "ExpleJouet = pd.DataFrame(matJouet['Data'])\n",
    "ExpleJouet=np.asarray(ExpleJouet)\n",
    "\n",
    "# Visualisation du jeu de données \n",
    "plt.plot(ExpleJouet[:,0],ExpleJouet[:,1],'.')\n",
    "\n",
    "\n",
    "# Classification du jeu de données\n",
    "classification_spectrale(ExpleJouet[:4], 2, 1)\n",
    "\n",
    "# Visualisation des classes \n",
    "# A COMPLETER\n",
    "\n"
   ]
  },
  {
   "cell_type": "markdown",
   "id": "a492f263",
   "metadata": {},
   "source": [
    "# Partie II : application de la classification spectrale sur les protils temporels TACs  \n",
    "\n",
    "La segmentation des images TEP repose donc sur une classification de profils temporels très bruités sans disposer de connaissance a priori.  Ces profils temporels s'appellent des courbes Temps-Activité (notées TAC pour *Time Activity Curves*). Comme ils traduisent l'évolution de la radioactivité, elles comportent principalement 2 phases : une phase de croissance  suivie d'une phase de décroissance. Suivant les tissus, les profils temporels vont présenter  différentes amplitudes et des phases de croissance et de décroissance de durées plus ou moins longues. \n",
    "\n",
    "La simulation numérique est couramment utilisée dans le domaine du traitement d'image. Elle\n",
    "constitue une aide précieuse pour le développement et l'évaluation de méthodes car elle permet de\n",
    "disposer d'une vérité terrain à laquelle on va comparer les résultats obtenus. Un exemple de simulation de TACs est représenté sur la figure suivante\n",
    "\n",
    "Dans l'imagerie médicale, ces simulations sont généralement effectuées selon la méthode Monte-Carlo, particulièrement adaptées à la physique nucléaire à\n",
    "cause de la nature stochastique des processus d'émission, de transport et de détection.\n",
    "\n",
    "<img src=\"TAC_simu_reel.png\" width=\"800\" height=\"400\">\n",
    "\n",
    "\n",
    "On dispose de données temporelles simulées (séquences de 20 instants) d'une coupe transverse et d'une coupe sagittale de taille $64\\times 54$ (représentées sur la figure ci-dessus) que l'on souhaite segmenter sans prendre en compte l'information géométrique. On dispose aussi de la vérité terrain c'est-à-dire de la segmentation de ces coupes avant simulation. Ces matrices sont stockées respectivement dans les fichiers *DataTAC_S.mat* et *DataTAC_T.mat*.\n",
    "\n"
   ]
  },
  {
   "cell_type": "code",
   "execution_count": null,
   "id": "750e49eb",
   "metadata": {},
   "outputs": [],
   "source": [
    "# Chargement de la coupe sagittale\n",
    "matS = scipy.io.loadmat('DataTAC_S.mat')\n",
    "data_S = pd.DataFrame(matS['DataTAC_S'])\n",
    "\n",
    "print('Nombre de TAC de la coupe Sagittale :' ,data_S.shape)\n",
    "\n",
    "# Chargement de la coupe transverse\n",
    "matT = scipy.io.loadmat('DataTAC_T.mat')\n",
    "data_T = pd.DataFrame(matT['DataTAC_T'])\n",
    "\n",
    "print('Nombre de TAC de la coupe Sagittale :', data_T.shape)\n",
    "\n",
    "# Affichage des TAC des deux coupes\n",
    "fig, axs = plt.subplots(nrows=1, ncols=2, figsize=(15, 7))\n",
    "axs[0].plot(data_S.T)\n",
    "axs[0].set_title('TAC de Coupe Sagittale')\n",
    "axs[1].plot(data_T.T)\n",
    "axs[1].set_title('TAC de Coupe Transverse')\n"
   ]
  },
  {
   "cell_type": "code",
   "execution_count": null,
   "id": "78c2ccae",
   "metadata": {},
   "outputs": [],
   "source": [
    "# Test de la classification spectrale sur image sagittale de taille (54,64) comprenant 9 classes\n",
    "PartitionSC_S=np.zeros((3456))\n",
    "\n",
    "# Redimensionnement de la partition de la coupe saggitale en (54,64)\n",
    "ImSagittaleSC=np.reshape(PartitionSC_S,((54,64)))\n",
    "plt.imshow(ImSagittaleSC.T)"
   ]
  },
  {
   "cell_type": "code",
   "execution_count": null,
   "id": "46117ecf",
   "metadata": {},
   "outputs": [],
   "source": [
    "# Test de la classification spectrale sur image sagittale de taille (54,64) comprenant 5 classes\n",
    "\n",
    "PartitionSC_T=np.zeros((3456))\n",
    "\n",
    "\n",
    "# Redimensionnement de la partition de la coupe saggitale\n",
    "ImTransverseSC=np.reshape(PartitionSC_T,(54,64))\n",
    "\n",
    "plt.imshow(ImTransverseSC.T)\n"
   ]
  },
  {
   "cell_type": "markdown",
   "id": "b545cfeb",
   "metadata": {},
   "source": [
    "# Partie III : comparaison avec  kmeans (+ ACP)\n",
    "\n",
    "- Réaliser une classification avec le kmeans de sklearn\n",
    "- Tester aussi une réduction de dimension par ACP comme étape de prétraitement qui conserverait 95% de l'information"
   ]
  },
  {
   "cell_type": "code",
   "execution_count": null,
   "id": "e6560af4",
   "metadata": {},
   "outputs": [],
   "source": [
    "# Tester Kmeans avec l'exemple jouet et afficher le résultat \n",
    "# A COMPLETER\n",
    "\n"
   ]
  },
  {
   "cell_type": "code",
   "execution_count": null,
   "id": "43e399a6",
   "metadata": {},
   "outputs": [],
   "source": [
    "# Tester sur les TACS"
   ]
  },
  {
   "cell_type": "markdown",
   "id": "669bfe96",
   "metadata": {},
   "source": [
    "# Partie IV : Comparaison avec vérité terrain\n",
    "\n",
    "\n",
    "En utilisant la vérité terrain des coupes (repectivement les matrices *ImageROI_DataSagittale*, *Image_ROI_DataTransverse*, analyser vos résultats et améliorer les.\n",
    "\n",
    "\n",
    "<img src=\"VeriteTerrain.png\" width=\"600\" height=\"300\">\n"
   ]
  },
  {
   "cell_type": "code",
   "execution_count": null,
   "id": "344b2bd5",
   "metadata": {},
   "outputs": [],
   "source": [
    "dataROISagit= scipy.io.loadmat('ImageROI_DataSagittale.mat') \n",
    "dataROI_S = pd.DataFrame(dataROISagit['Image_ROI_S'])\n",
    "\n",
    "\n",
    "# résultat vérité terrain et clustering spectral\n",
    "fig, axs = plt.subplots(nrows=1, ncols=3, figsize=(20, 10))\n",
    "axs[0].matshow(dataROI_S)\n",
    "axs[0].set_title('Verite Terrain Coupe Sagittale')\n",
    "axs[1].matshow(ImSagittaleSC.T)\n",
    "axs[1].set_title('Partition par classification spectrale')\n",
    "axs[2].matshow(ImSagittaleSC.T) # à modifier par Image issue du Kmeans\n",
    "axs[2].set_title('Partition kmeans')\n"
   ]
  },
  {
   "cell_type": "code",
   "execution_count": null,
   "id": "da60d766",
   "metadata": {},
   "outputs": [],
   "source": [
    "dataROITrans= scipy.io.loadmat('ImageROI_DataTransverse.mat') \n",
    "dataROI_T = pd.DataFrame(dataROITrans['Image_ROI_T'])\n",
    "\n",
    "\n",
    "# résultat vérité terrain et clustering spectral\n",
    "fig, axs = plt.subplots(nrows=1, ncols=3, figsize=(20, 10))\n",
    "axs[0].matshow(dataROI_T)\n",
    "axs[0].set_title('Verité Terrain coupe transverse')\n",
    "axs[1].matshow(ImTransverseSC.T)\n",
    "axs[1].set_title('Partition par classification spectrale')\n",
    "axs[2].matshow(ImTransverseSC.T) # à modifier par Image issue du Kmeans\n",
    "axs[2].set_title('Partition kmeans')"
   ]
  },
  {
   "cell_type": "markdown",
   "id": "bd9e38d3",
   "metadata": {},
   "source": [
    "## Calcul de mesures de précision et rappel \n",
    "\n",
    "**Précision :** évalue l'exactitude des prédictions positives\n",
    "$$Precision=\\frac{TP}{TP+FP}$$\n",
    "**Rappel :** évalue le taux d'observations positives ayant été correctement détectées par le classifieur\n",
    "$$Rappel = \\frac{TP}{TP+FN}$$\n",
    "\n",
    "<img src=\"PrecisionRappel.png\" width=\"300\" height=\"300\">\n",
    "\n",
    "\n",
    "**Indice de Fowlkes-Mallows index (FMI)** mesure la similarité entre deux partitionnements. C'est une moyenne géométrique entre la précision et le rappel :\n",
    "\n",
    "$$FMI = \\frac{TP}{\\sqrt{TP + FP) * (TP + FN)}}$$"
   ]
  },
  {
   "cell_type": "code",
   "execution_count": null,
   "id": "d256cbcf",
   "metadata": {},
   "outputs": [],
   "source": [
    "from sklearn.metrics.cluster import fowlkes_mallows_score\n",
    "\n",
    "# Coupe Sagittale : Vectorisation de l'image de verité terrain\n",
    "VecdataROI_S=np.ravel(dataROI_S)\n",
    "\n",
    "\n",
    "\n",
    "# Mesure d'évalution pour la coupe sagittale  pour la classification spectrale\n",
    "#resultatSC=fowlkes_mallows_score(VecdataROI_S,PartitionSC_S)\n",
    "#print('Resultat Sagittale - Classification Spectrale :',resultatSC)\n",
    "\n",
    "\n",
    "# Mesure d'évalution pour la coupe sagittale  pour le Kmeans \n",
    "# A COMPLETER\n"
   ]
  },
  {
   "cell_type": "code",
   "execution_count": null,
   "id": "428b1082",
   "metadata": {},
   "outputs": [],
   "source": [
    "\n",
    "# Coupe Transverse : Vectorisation de l'image de verité terrain\n",
    "VecdataROI_T=np.ravel(dataROI_T)\n",
    "\n",
    "# Mesure d'évalution pour la coupe transverse  pour la classification spectrale\n",
    "#resultatSC=fowlkes_mallows_score(VecdataROI_T,PartitionSC_T)\n",
    "#print('Resultat Transverse - Classification Spectrale :',resultatSC)\n",
    "\n",
    "# Mesure d'évalution pour la coupe transverse  pour le Kmeans \n",
    "# A COMPLETER"
   ]
  },
  {
   "cell_type": "markdown",
   "id": "298d9800",
   "metadata": {},
   "source": [
    "# Partie V : votre analyse\n",
    "\n",
    "A partir des méthodes que vous avez implémentées, sur le notebook \n",
    "- Réaliser une analyse sur les résultats des méthodes de classification non supervisée : classification spectrale, kmeans et ACP+kmeans\n",
    "- Tester pour différentes valeurs de paramètres $\\sigma$ et de classes \n",
    "\n",
    "Rédiger sur un cartouche l'analyse effectuée et vos conclusions.\n",
    "\n",
    "Le notebook sera à rendre sur moodle. "
   ]
  },
  {
   "cell_type": "code",
   "execution_count": null,
   "id": "e9b7f533",
   "metadata": {},
   "outputs": [],
   "source": []
  },
  {
   "cell_type": "markdown",
   "id": "fb84b7ca",
   "metadata": {},
   "source": [
    "## Votre analyse \n",
    "\n",
    "\n",
    "Rédiger votre analyse et vos conclusions.\n",
    "\n",
    "\n",
    "\n",
    "\n",
    "\n"
   ]
  },
  {
   "cell_type": "code",
   "execution_count": null,
   "id": "8d32625f",
   "metadata": {},
   "outputs": [],
   "source": []
  },
  {
   "cell_type": "code",
   "execution_count": null,
   "id": "51e12e84",
   "metadata": {},
   "outputs": [],
   "source": []
  },
  {
   "cell_type": "code",
   "execution_count": null,
   "id": "f38b124a",
   "metadata": {},
   "outputs": [],
   "source": []
  },
  {
   "cell_type": "code",
   "execution_count": null,
   "id": "cc12ff39",
   "metadata": {},
   "outputs": [],
   "source": []
  },
  {
   "cell_type": "code",
   "execution_count": null,
   "id": "af181173",
   "metadata": {},
   "outputs": [],
   "source": []
  }
 ],
 "metadata": {
  "kernelspec": {
   "display_name": "Python 3.9.12 ('base')",
   "language": "python",
   "name": "python3"
  },
  "language_info": {
   "codemirror_mode": {
    "name": "ipython",
    "version": 3
   },
   "file_extension": ".py",
   "mimetype": "text/x-python",
   "name": "python",
   "nbconvert_exporter": "python",
   "pygments_lexer": "ipython3",
   "version": "3.9.12"
  },
  "vscode": {
   "interpreter": {
    "hash": "acc23a562719bb8cf99880a31fdbc39da3a89750c9e1b0fb3af708b3dd7b1503"
   }
  }
 },
 "nbformat": 4,
 "nbformat_minor": 5
}
